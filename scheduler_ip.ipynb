{
 "cells": [
  {
   "cell_type": "markdown",
   "id": "c314eedd",
   "metadata": {},
   "source": [
    "# CS 105 Spring 2022 OH/recitation scheduling\n",
    "\n",
    "## Inputs\n",
    "* Office hour block schedule.\n",
    "* Recitation schedule.\n",
    "* Availability form data.\n",
    "* TA metadata (returning status).\n",
    "* TA recitation buddy data (derived from availability form).\n",
    "\n",
    "## IP formulation (informal)\n",
    "\n",
    "### Objective (summary)\n",
    "Jointly maximize utility-weighted TA hours and utility-weighted recitation assignments, with a utility bonus for recitation buddy pairings.\n",
    "\n",
    "### Hard constraints\n",
    "* Office hour shifts are between 1 and 3 hours long.\n",
    "* Each TA is scheduled only when available.\n",
    "* Each TA works at most one office hour shift per day.\n",
    "* Each TA works at most one maximum-length (3hr) shift per week.\n",
    "* Each TA works no more than 3 office hour shifts per week.\n",
    "* Each TA with a recitation preference score of ≥4 holds no more than 2 recitations per week.\n",
    "* Each TA with a recitation preference score of 1-3 holds no more than 1 recitation per week.\n",
    "* Each TA with a recitation preference score of 0 holds no recitations.\n",
    "* No TA can simultaneously hold office hours and lead a recitation.\n",
    "* No TA has more than one weekend shift.\n",
    "* To avoid excessive late-night trips trips to Cummings, no TA has a shift starting after 9 PM.\n",
    "* Estimated demand is (roughly) met at each block: 0-1 TAs in blocks with demand 1, and 1-2 TAs in blocks with demand 2. (Blocks are an hour long.) \n",
    "* Each recitation has between 1 and 2 leaders.\n",
    "* A minimum number of TA-hours are assigned globally.\n",
    "* Each TA is assigned a number of hours in the range they asked for. Each recitation counts as 2 hours, and weekly grading parties are counted as 2 hours. (Being conservative and counting them as 3 hours makes scheduling much hairier for spring 2022 data, and grading parties are almost always ≤2 hours long anyway. Furthermore, not all weeks have a grading party.)\n",
    "\n",
    "### Utility considerations\n",
    "* **OH block objective**: A TA gets 4 points of utility when granted a preferred office hour block and 1 point when granted a non-preferred block.\n",
    "* **Recitation schedule objective**: A TA gets $1.6^{r}$ units of utility when granted a recitation, where $r$ is their recitation preference score from 1-5. (TAs with a score of 0 are not scheduled for recitations.) This utility score is multiplied by 2 for returning TAs, which encourages solutions where returning TAs hold more recitations and fewer office hours.\n",
    "* **Recitation buddy objective**: We add 5 points for each directional recitation match. Thus, if two TAs mutually request to hold recitation together, they each get 5 points of utility for each recitation they hold together.\n",
    "\n",
    "We'll get a first-pass solution with a MIP solver. (I originally tried Z3, but it doesn't do well with complicated objective functions.) Some manual tweaks will be necessary, of course. In particular, assigning in-person vs. virtual office hours is probably a judgment call.\n",
    "\n",
    "### Notes for future semesters\n",
    "In addition to the fields on the [existing form](https://forms.gle/aPt4M3fWpQwxpdvH9), it would be ideal to gather:\n",
    "* Would you rather have shorter shifts throughout the week or one long shift? are you willing to do a 3-hour shift?\n",
    "* How many recitations are you willing to lead?\n",
    "* Is there anyone you want to be paired with for office hours?\n",
    "* Is there anyone you _don't_ want to be paired with for office hours or recitations? 😳\n",
    "\n",
    "\n",
    "## Running\n",
    "This notebook is mostly standalone. CSV inputs are omitted from the GitHub repository for privacy reasons. The schema for `ta_buddies.csv` is just pairs of TA names (`requester`, `requested`). The schema for `ta_metadata.csv` is `name` and `returning` (a boolean). The schema for `availability.csv` (the main input) is [induced by this Google Form](https://forms.gle/aPt4M3fWpQwxpdvH9). **Names must match exactly between CSVs.**"
   ]
  },
  {
   "cell_type": "code",
   "execution_count": null,
   "id": "642407c1",
   "metadata": {},
   "outputs": [],
   "source": [
    "!pip install pandas ortools python-dateutil"
   ]
  },
  {
   "cell_type": "code",
   "execution_count": null,
   "id": "876379c5",
   "metadata": {},
   "outputs": [],
   "source": [
    "import numpy as np\n",
    "import pandas as pd\n",
    "from functools import partial\n",
    "from collections import namedtuple, defaultdict\n",
    "from dateutil.parser import parse as ts_parse\n",
    "from ortools.linear_solver import pywraplp"
   ]
  },
  {
   "cell_type": "markdown",
   "id": "dce5770b",
   "metadata": {},
   "source": [
    "## Model parameters"
   ]
  },
  {
   "cell_type": "code",
   "execution_count": null,
   "id": "882e8865",
   "metadata": {},
   "outputs": [],
   "source": [
    "max_oh_shift_length = 3    # in hours\n",
    "max_oh_shifts_per_ta = 3\n",
    "max_recitations_per_ta = 2\n",
    "recitation_time_commitment = 2  # in hours (prep + session), approx.\n",
    "grading_time_commitment = 2  # in hours (typical; being more conservative makes schedulning significantly harder)\n",
    "one_shift_per_day = True  # optional constraint: at most one shift per TA per day (no extra walks!)\n",
    "oh_preferred_weight = 4  # multiplier in objective function for preferred hours (non-preferred hours have unit weight)\n",
    "recitation_pref_shape = 1.4  # base preference score is `recitation_pref_shape**[1 - 5 ranking]`\n",
    "recitation_returning_ta_multiplier = 1.8  # prefer senior TAs as recitation leaders\n",
    "recitation_one_way_buddy_weight = 5  # add extra utility for buddy pairings\n",
    "alpha = 5  # relative weight of recitation objective (w.r.t. OH block objective, which has unit weight)\n",
    "beta = 5   # relative weight of OH shift objective"
   ]
  },
  {
   "cell_type": "markdown",
   "id": "736bface",
   "metadata": {},
   "source": [
    "## OH schedule"
   ]
  },
  {
   "cell_type": "code",
   "execution_count": null,
   "id": "e5a7d159",
   "metadata": {},
   "outputs": [],
   "source": [
    "weekdays = ('Mon', 'Tue', 'Wed', 'Thu', 'Fri')\n",
    "weekend = ('Sat', 'Sun')"
   ]
  },
  {
   "cell_type": "markdown",
   "id": "854b6942",
   "metadata": {},
   "source": [
    "### Guidance from Richard\n",
    "  > For coverage insight, look at the pinned piazza post from last semester; we're looking to roughly mirror that schedule, with more coverage on Monday/Tuesday nights (leading up to major deadlines), and less on Thursdays. We do have many more students this semester, though, so we could probably handle ~15% more hours across the board if possible.\n",
    "  \n",
    "> No one shows up in the morning, so those never need double coverage (in my experience).\n",
    "\n",
    "> We were well under budget this past semester (woo-hoo!), hitting about 63 office hours per week for 90 students. This semester we have 120 students enrolled currently, so we could bump up to ~80 hours per week, I believe, and still be kosher. If you can get between 63-80 hours per week, I think that's a great start.\n",
    "  \n",
    "\n",
    "### Last semester (fall 2021)\n",
    "\n",
    "#### Weekdays\n",
    "* Monday, 10 AM – 1 PM (1 TA; last hour virtual)\n",
    "* Monday, 3 PM – 7 PM (1 TA)\n",
    "* Monday, 7 PM – 12 PM (2 TAs)\n",
    "* Tuesday, 10 AM – 11 AM (1 TA)\n",
    "* Tuesday, 12 PM – 3 PM (1 TA, first hour virtual)\n",
    "* Tuesday, 4 PM – 8 PM (1 TA)\n",
    "* Tuesday, 8 PM – 12 AM (2 TAs)\n",
    "* Wednesday, 10 AM – 1 PM (1 TA)\n",
    "* Wednesday, 3 PM – 9 PM (1 TA)\n",
    "* Wednesday, 9 PM – 12 AM (2 TAs)\n",
    "* Thursday, 10 AM – 7 PM (1 TA)\n",
    "* Thursday, 8 PM – 10 PM (1 TA)\n",
    "* Friday, 11 AM – 3 PM (1 TA)\n",
    "\n",
    "#### Weekend\n",
    "* Saturday, 2 PM – 7 PM (1 TA)\n",
    "* Sunday, 1 PM – 5 PM (1 TA)\n",
    "* Sunday, 6 PM – 8 PM (1 TA)\n",
    "* Sunday, 8 PM – 9 PM (2 TAs)\n",
    "* Sunday, 9 PM – 10 PM (1 TA)"
   ]
  },
  {
   "cell_type": "code",
   "execution_count": null,
   "id": "a7bb7128",
   "metadata": {},
   "outputs": [],
   "source": [
    "oh_demand_bounds = {  # in TAs\n",
    "  ('Mon', 10, 17): (0, 1),  # Monday, 10 AM – 6 PM\n",
    "  ('Mon', 18, 23): (1, 2),  # Monday, 6 PM – 12 AM\n",
    "  ('Tue', 10, 15): (1, 1),  # Tuesday, 10 AM – 4 PM\n",
    "  ('Tue', 16, 23): (2, 2),  # Tuesday, 4 PM – 12 AM\n",
    "  ('Wed', 12, 23): (1, 1),  # Wednesday, 12 PM – 12 AM\n",
    "  ('Thu', 12, 20): (0, 1),  # Thursday, 12 PM – 9 PM\n",
    "  ('Fri', 10, 14): (0, 1),  # Friday, 10 AM – 3 PM  [grading party at 3 PM]\n",
    "  ('Sat', 12, 18): (1, 1),  # Saturday, 12 PM – 7 PM\n",
    "  ('Sun', 12, 21): (1, 1),  # Sunday, 12 PM – 10 PM\n",
    "}"
   ]
  },
  {
   "cell_type": "code",
   "execution_count": null,
   "id": "78b6bb5c",
   "metadata": {},
   "outputs": [],
   "source": [
    "print('Estimated hours of demand (unweighted):\\t', sum(end - start + 1 for _, start, end in oh_demand_bounds))\n",
    "print('Estimated TA-hours of demand (u.b.):\\t', sum((end - start + 1) * weight for (_, start, end), (_, weight) in oh_demand_bounds.items()))"
   ]
  },
  {
   "cell_type": "code",
   "execution_count": null,
   "id": "2676c806",
   "metadata": {},
   "outputs": [],
   "source": [
    " # this seems reasonable given the bounds above...\n",
    "min_total_ta_hours = 80"
   ]
  },
  {
   "cell_type": "code",
   "execution_count": null,
   "id": "514f0448",
   "metadata": {},
   "outputs": [],
   "source": [
    "Block = namedtuple('Block', ['day', 'start', 'end'])"
   ]
  },
  {
   "cell_type": "code",
   "execution_count": null,
   "id": "d56f6039",
   "metadata": {},
   "outputs": [],
   "source": [
    "oh_block_ids = {}\n",
    "oh_demand_by_block_id = {}\n",
    "for (day, start, end), demand in oh_demand_bounds.items():\n",
    "  for hour in range(start, end + 1):\n",
    "    block = Block(day, hour, hour + 1)\n",
    "    block_id = len(oh_block_ids)\n",
    "    oh_block_ids[block] = block_id\n",
    "    oh_demand_by_block_id[block_id] = demand\n",
    "oh_block_id_to_block = {v: k for k, v in oh_block_ids.items()}"
   ]
  },
  {
   "cell_type": "markdown",
   "id": "6adf3bac",
   "metadata": {},
   "source": [
    "## Recitation schedule"
   ]
  },
  {
   "cell_type": "code",
   "execution_count": null,
   "id": "bfe13762",
   "metadata": {},
   "outputs": [],
   "source": [
    "Recitation = namedtuple('Recitation', ['day', 'start', 'end'])"
   ]
  },
  {
   "cell_type": "code",
   "execution_count": null,
   "id": "af52f573",
   "metadata": {},
   "outputs": [],
   "source": [
    "def parse_recitation(line):\n",
    "  line = line.replace('Th', 'Thu').replace('Fr', 'Fri')\n",
    "  day, start_raw, _, end_raw = line.split(' ')\n",
    "  start = ts_parse(start_raw)\n",
    "  end = ts_parse(end_raw)\n",
    "  return Recitation(day,\n",
    "                    start.hour + (start.minute / 60),\n",
    "                    end.hour + (end.minute / 60))"
   ]
  },
  {
   "cell_type": "code",
   "execution_count": null,
   "id": "ad86d874",
   "metadata": {},
   "outputs": [],
   "source": [
    "# from SIS; same format used in Google Forms\n",
    "recitations_raw = \"\"\"\n",
    "Th 10:30AM - 11:45AM\n",
    "Th 12:00PM - 1:15PM\n",
    "Th 1:30PM - 2:45PM\n",
    "Th 3:00PM - 4:15PM\n",
    "Th 4:30PM - 5:45PM\n",
    "Th 6:00PM - 7:15PM\n",
    "Th 7:30PM - 8:45PM\n",
    "Fr 10:30AM - 11:45AM\n",
    "Fr 12:00PM - 1:15PM\n",
    "Fr 1:30PM - 2:45PM\"\"\".strip().split('\\n')\n",
    "\n",
    "recitations = [parse_recitation(line) for line in recitations_raw]"
   ]
  },
  {
   "cell_type": "markdown",
   "id": "2a62f035",
   "metadata": {},
   "source": [
    "## Availability\n",
    "(Raw CSV export from Google Forms.)"
   ]
  },
  {
   "cell_type": "code",
   "execution_count": null,
   "id": "da6647bf",
   "metadata": {},
   "outputs": [],
   "source": [
    "availability_df = pd.read_csv('availability.csv')  # excluded from repo for privacy reasons"
   ]
  },
  {
   "cell_type": "code",
   "execution_count": null,
   "id": "49e8d9d1",
   "metadata": {},
   "outputs": [],
   "source": [
    "columns = {\n",
    "  'Name': 'name',\n",
    "  'Minimum hours per week': 'min_hours',\n",
    "  'Maximum hours per week': 'max_hours',\n",
    "  'What is your preferred modality for office hours?': 'in_person_pref',\n",
    "  'How willing are you to lead recitation?': 'recitation_pref',\n",
    "  'If your answer to the above was greater than 0, which recitations would you want to lead.': 'recitation_availability'\n",
    "}"
   ]
  },
  {
   "cell_type": "code",
   "execution_count": null,
   "id": "a8d6ef7f",
   "metadata": {},
   "outputs": [],
   "source": [
    "for col in availability_df.columns:\n",
    "  if col.startswith('Time Availability.') or col.startswith('Select high preference'):\n",
    "    hour = ts_parse(col.split('[')[-1].replace(']', '')).hour\n",
    "    prefix = 'oh_available' if col.startswith('Time Availability.') else 'oh_pref'\n",
    "    columns[col] = f'{prefix}_{hour}'"
   ]
  },
  {
   "cell_type": "code",
   "execution_count": null,
   "id": "ed716de5",
   "metadata": {},
   "outputs": [],
   "source": [
    "availability_df = availability_df.rename(columns=columns)[columns.values()]"
   ]
  },
  {
   "cell_type": "code",
   "execution_count": null,
   "id": "e9601515",
   "metadata": {},
   "outputs": [],
   "source": [
    "def embed_block_schedule(row, prefix='oh_available'):\n",
    "  row = dict(row)\n",
    "  schedule = np.zeros(len(oh_block_ids), dtype=bool)\n",
    "  for col in row:\n",
    "    if col.startswith(prefix) and col != prefix:\n",
    "      block_hour = int(col.split('_')[-1])\n",
    "      block_days = str(row[col]).split(';')\n",
    "      for day in block_days:\n",
    "        block = Block(day[:3], block_hour, block_hour + 1)\n",
    "        if block in oh_block_ids:\n",
    "          schedule[oh_block_ids[block]] = 1\n",
    "  return schedule"
   ]
  },
  {
   "cell_type": "code",
   "execution_count": null,
   "id": "2987d196",
   "metadata": {},
   "outputs": [],
   "source": [
    "availability_df['oh_available'] = availability_df.apply(embed_block_schedule, axis=1)\n",
    "availability_df['oh_pref_available'] = availability_df.apply(partial(embed_block_schedule, prefix='oh_pref'), axis=1)"
   ]
  },
  {
   "cell_type": "code",
   "execution_count": null,
   "id": "6dbe8555",
   "metadata": {},
   "outputs": [],
   "source": [
    "def embed_recitations(row):\n",
    "  schedule = np.zeros(len(recitations), dtype=bool)\n",
    "  row_recitations = str(row['recitation_availability']).split(';')\n",
    "  for recitation in row_recitations:\n",
    "    if recitation in recitations_raw:\n",
    "      schedule[recitations_raw.index(recitation)] = 1\n",
    "  return schedule"
   ]
  },
  {
   "cell_type": "code",
   "execution_count": null,
   "id": "11a62a9a",
   "metadata": {},
   "outputs": [],
   "source": [
    "availability_df['recitation_available'] = availability_df.apply(embed_recitations, axis=1)"
   ]
  },
  {
   "cell_type": "code",
   "execution_count": null,
   "id": "e7b4d4aa",
   "metadata": {},
   "outputs": [],
   "source": [
    "availability_df['name'] = availability_df['name'].str.strip()"
   ]
  },
  {
   "cell_type": "code",
   "execution_count": null,
   "id": "d22a8d59",
   "metadata": {},
   "outputs": [],
   "source": [
    "availability_df = availability_df[['name', 'min_hours', 'max_hours', 'recitation_pref',\n",
    "                                   'oh_available', 'oh_pref_available', 'recitation_available']]"
   ]
  },
  {
   "cell_type": "code",
   "execution_count": null,
   "id": "e6f58c41",
   "metadata": {},
   "outputs": [],
   "source": [
    "ta_metadata_df = pd.read_csv('ta_metadata.csv', dtype={'returning': bool})"
   ]
  },
  {
   "cell_type": "code",
   "execution_count": null,
   "id": "1293916c",
   "metadata": {},
   "outputs": [],
   "source": [
    "availability_df = availability_df.merge(ta_metadata_df, on='name', how='left')"
   ]
  },
  {
   "cell_type": "code",
   "execution_count": null,
   "id": "3060d163",
   "metadata": {},
   "outputs": [],
   "source": [
    "availability_df"
   ]
  },
  {
   "cell_type": "markdown",
   "id": "57b65e57",
   "metadata": {},
   "source": [
    "## Input data cleanup/validation\n",
    "* If a TA is unwilling to lead a recitation, they should not have any recitation availability.\n",
    "* If a TA has a preferred time checked, they should also be available for that time. (preferred => available, i.e. ~(preferred $\\land$ ~available))\n",
    "* TAs who are unavailable for anything other than grading should be filtered out."
   ]
  },
  {
   "cell_type": "code",
   "execution_count": null,
   "id": "15744373",
   "metadata": {},
   "outputs": [],
   "source": [
    "no_recitation_tas_df = availability_df[availability_df['recitation_pref'] == 0]\n",
    "assert (no_recitation_tas_df['recitation_available'].sum() == 0).all()"
   ]
  },
  {
   "cell_type": "code",
   "execution_count": null,
   "id": "3e6e37fa",
   "metadata": {},
   "outputs": [],
   "source": [
    "# Special cases...\n",
    "availability_df.at[2, 'max_hours'] = 5\n",
    "availability_df.at[9, 'oh_available'] = availability_df.loc[9, 'oh_pref_available'] "
   ]
  },
  {
   "cell_type": "code",
   "execution_count": null,
   "id": "c6dfe08f",
   "metadata": {},
   "outputs": [],
   "source": [
    "availability_df.apply(lambda row: (row['oh_pref_available'] & ~row['oh_available']).sum(), axis=1)"
   ]
  },
  {
   "cell_type": "code",
   "execution_count": null,
   "id": "e06b0b40",
   "metadata": {},
   "outputs": [],
   "source": [
    "availability_df = availability_df[availability_df['max_hours'] > grading_time_commitment].reset_index(drop=True)"
   ]
  },
  {
   "cell_type": "code",
   "execution_count": null,
   "id": "aaa7c4af",
   "metadata": {},
   "outputs": [],
   "source": [
    "ta_buddies_df = pd.read_csv('ta_buddies.csv')"
   ]
  },
  {
   "cell_type": "code",
   "execution_count": null,
   "id": "2f7a6651",
   "metadata": {},
   "outputs": [],
   "source": [
    "buddies = []\n",
    "names = list(availability_df['name'])\n",
    "for requester, requested in zip(ta_buddies_df['requester'], ta_buddies_df['requested']):\n",
    "  if requester in names and requested in names:\n",
    "    buddies.append((names.index(requester), names.index(requested)))"
   ]
  },
  {
   "cell_type": "code",
   "execution_count": null,
   "id": "bfad6393",
   "metadata": {},
   "outputs": [],
   "source": [
    "buddies"
   ]
  },
  {
   "cell_type": "code",
   "execution_count": null,
   "id": "118c11a8",
   "metadata": {},
   "outputs": [],
   "source": [
    "availability_df"
   ]
  },
  {
   "cell_type": "markdown",
   "id": "8726c8fd",
   "metadata": {},
   "source": [
    "## IP model: constraints"
   ]
  },
  {
   "cell_type": "code",
   "execution_count": null,
   "id": "369a6125",
   "metadata": {},
   "outputs": [],
   "source": [
    "solver = pywraplp.Solver.CreateSolver('SCIP')"
   ]
  },
  {
   "cell_type": "markdown",
   "id": "f56224c4",
   "metadata": {},
   "source": [
    "### OH availability constraints\n",
    "We only create boolean block/shift variables when TAs are available."
   ]
  },
  {
   "cell_type": "code",
   "execution_count": null,
   "id": "93f42e7a",
   "metadata": {},
   "outputs": [],
   "source": [
    "Shift = namedtuple('Shift', ['var', 'day', 'start', 'end'])"
   ]
  },
  {
   "cell_type": "code",
   "execution_count": null,
   "id": "362cc991",
   "metadata": {},
   "outputs": [],
   "source": [
    "oh_blocks = [{} for _ in range(len(oh_block_ids))]\n",
    "oh_blocks_by_ta = []\n",
    "oh_shifts_by_ta = []\n",
    "for ta_idx, availability in enumerate(availability_df['oh_available']):\n",
    "  row_blocks = {}\n",
    "  #print('availability:', availability)\n",
    "  for block_id in np.where(availability == 1)[0]:\n",
    "    #print('creating', ta_idx, block_id)\n",
    "    # Constraint (implicit): only generate variables for TAs when they are available.\n",
    "    block_var = solver.IntVar(0, 1, f'ta_{ta_idx}_block_{block_id}')\n",
    "    row_blocks[block_id] = block_var\n",
    "    oh_blocks[block_id][ta_idx] = block_var\n",
    "  \n",
    "  row_shifts = []\n",
    "  block_var_to_shift_vars = defaultdict(list)\n",
    "  for window in range(max_oh_shift_length):\n",
    "    for block_idx in range(availability.size - window):\n",
    "      start_block = oh_block_id_to_block[block_idx]\n",
    "      end_block = oh_block_id_to_block[block_idx + window]\n",
    "      \n",
    "      # Constraint: no short shifts at night/when classes have ended.\n",
    "      if start_block.start >= 21 and window < 2:  \n",
    "        continue\n",
    "        \n",
    "      # Assumption: within a day, blocks are contiguous.\n",
    "      if ((start_block.day == end_block.day)\n",
    "          and (availability[block_idx:block_idx + window + 1].sum() == window + 1)):\n",
    "        shift_var = solver.IntVar(0, 1, f'ta_{ta_idx}_shift_{len(row_shifts)}')\n",
    "        row_shifts.append(Shift(shift_var, start_block.day, start_block.start, end_block.end))\n",
    "        \n",
    "        # Constraint: if the shift is selected, all blocks in the shift are selected.\n",
    "        for block_id in range(block_idx, block_idx + window + 1):\n",
    "          block_var = row_blocks[block_id]\n",
    "          solver.Add(block_var >= shift_var)\n",
    "          block_var_to_shift_vars[block_var].append(shift_var)\n",
    "          \n",
    "  # Constraint: if a block is selected, then a shift it is in is selected.\n",
    "  for block_var, shift_vars in block_var_to_shift_vars.items():\n",
    "    #print(block_var, shift_vars)\n",
    "    solver.Add(solver.Sum(shift_vars) >= block_var)\n",
    "    \n",
    "  # Constraint: orphan blocks (blocks outside of a valid shift) cannot be assigned.\n",
    "  for orphan_block_var in set(row_blocks.values()) - set(block_var_to_shift_vars):\n",
    "    solver.Add(orphan_block_var == 0)\n",
    "\n",
    "  if one_shift_per_day:\n",
    "    # Constraint (optional): no overlapping blocks (or one shift per day).\n",
    "    shift_vars_by_day = defaultdict(set)\n",
    "    for shift in row_shifts:\n",
    "      shift_vars_by_day[shift.day].add(shift.var)\n",
    "    #print(shift_vars_by_day)\n",
    "    for day_vars in shift_vars_by_day.values():\n",
    "      solver.Add(solver.Sum(day_vars) <= 1)\n",
    "  else:\n",
    "    # TODO: intra-day shift conflict constraints.\n",
    "    raise NotImplementedError('Multiple office hour shifts per day not supported yet.')\n",
    "    \n",
    "  # Constraint: no more than k shifts per week.\n",
    "  solver.Add(solver.Sum(s.var for s in row_shifts) <= max_oh_shifts_per_ta)\n",
    "  \n",
    "  # Constraint: no more than one shift per week of maximum length.\n",
    "  long_shift_vars = [\n",
    "    shift.var for shift in row_shifts\n",
    "    if shift.end - shift.start == max_oh_shift_length\n",
    "  ]\n",
    "  solver.Add(solver.Sum(long_shift_vars) <= 1)\n",
    "    \n",
    "  # Constraint: nobody has more than one weekend shift.\n",
    "  weekend_shift_vars = [\n",
    "    shift.var for shift in row_shifts\n",
    "    if shift.day in weekend\n",
    "  ]\n",
    "  solver.Add(solver.Sum(weekend_shift_vars) <= 1)\n",
    "          \n",
    "  oh_blocks_by_ta.append(row_blocks)\n",
    "  oh_shifts_by_ta.append(row_shifts)"
   ]
  },
  {
   "cell_type": "code",
   "execution_count": null,
   "id": "3a3faca1",
   "metadata": {},
   "outputs": [],
   "source": [
    "# Constraint: demand met at each block.\n",
    "for block_id, ta_vars in enumerate(oh_blocks):\n",
    "  demand_lb, demand_ub = oh_demand_by_block_id[block_id]\n",
    "  solver.Add(demand_lb <= solver.Sum(ta_vars.values()) <= demand_ub)"
   ]
  },
  {
   "cell_type": "markdown",
   "id": "84fbf207",
   "metadata": {},
   "source": [
    "### Recitation availability constraints\n",
    "* **Supply side**: TAs can only be assigned to recitations they might be available for.\n",
    "* **Supply side**: Each TA cannot lead too many recitations.\n",
    "* **Demand side**: each recitation must have at between one and two leaders."
   ]
  },
  {
   "cell_type": "code",
   "execution_count": null,
   "id": "556fde22",
   "metadata": {},
   "outputs": [],
   "source": [
    "recitation_assignments_by_ta = []\n",
    "recitation_assignments = [{} for _ in range(len(recitations))]\n",
    "for ta_idx, row in enumerate(availability_df.itertuples()):\n",
    "  availability = row.recitation_available\n",
    "  recitation_pref = row.recitation_pref\n",
    "  row_recitations = {}\n",
    "  for recitation_id in np.where(availability == 1)[0]:\n",
    "    # Constraint (implicit): only generate variables for TAs when they are available.\n",
    "    ta_recitation_var = solver.IntVar(0, 1, f'ta_{ta_idx}_recitation_{recitation_id}')\n",
    "    row_recitations[recitation_id] = ta_recitation_var\n",
    "    recitation_assignments[recitation_id][ta_idx] = ta_recitation_var    \n",
    "  recitation_assignments_by_ta.append(row_recitations)\n",
    "  \n",
    "  # Constraint: each TA with a preference score of ≥4 leads ≤k recitations.\n",
    "  # Constraint: each TA with a preference score between 1 and 3 leads ≤1 recitations.\n",
    "  threshold = max_recitations_per_ta  if recitation_pref >= 4 else 1\n",
    "  solver.Add(solver.Sum(row_recitations.values()) <= threshold)"
   ]
  },
  {
   "cell_type": "code",
   "execution_count": null,
   "id": "4d9cff61-877f-431b-b316-3f019d5302ed",
   "metadata": {},
   "outputs": [],
   "source": [
    "# more bespoke constraints...\n",
    "solver.Add(recitation_assignments_by_ta[6][0] == 1)\n",
    "solver.Add(recitation_assignments_by_ta[6][4] == 0)"
   ]
  },
  {
   "cell_type": "code",
   "execution_count": null,
   "id": "d39e9405",
   "metadata": {},
   "outputs": [],
   "source": [
    "for ta_vars in recitation_assignments:\n",
    "  # Constraint: each recitation must have ≥1 leader.\n",
    "  # Constraint: each recitation must have ≤2 leaders.\n",
    "  solver.Add(1 <= solver.Sum(ta_vars.values()) <= 2)"
   ]
  },
  {
   "cell_type": "code",
   "execution_count": null,
   "id": "599fa782",
   "metadata": {},
   "outputs": [],
   "source": [
    "# bespoke constraints to reflect ancillary preferences...\n",
    "solver.Add(recitation_assignments_by_ta[22][5] == 1)\n",
    "solver.Add(recitation_assignments_by_ta[22][7] == 1)\n",
    "solver.Add(oh_blocks_by_ta[0][0] == 1) \n",
    "solver.Add(oh_blocks_by_ta[0][1] == 1) \n",
    "solver.Add(oh_blocks_by_ta[0][2] == 1) \n",
    "solver.Add(solver.Sum(oh_blocks_by_ta[0].values()) == 3) "
   ]
  },
  {
   "cell_type": "markdown",
   "id": "aed9b7f9",
   "metadata": {},
   "source": [
    "### Recitation/OH overlap constraints\n",
    "A TA cannot simultaneously lead a recitation and hold office hours."
   ]
  },
  {
   "cell_type": "code",
   "execution_count": null,
   "id": "fe39c34a",
   "metadata": {},
   "outputs": [],
   "source": [
    "print('Overlaps:')\n",
    "for recitation_id, recitation in enumerate(recitations):\n",
    "  for block, block_id in oh_block_ids.items():\n",
    "    if (block.day == recitation.day and\n",
    "        max(recitation.start, block.start) < min(recitation.end, block.end)):\n",
    "      print(block, recitation, end=' ')\n",
    "      for ta_idx, ta_blocks in enumerate(oh_blocks_by_ta):\n",
    "        if block_id in ta_blocks and recitation_id in recitation_assignments_by_ta[ta_idx]:\n",
    "          print(ta_idx, end=' ')\n",
    "          block_var = ta_blocks[block_id]\n",
    "          recitation_var = recitation_assignments_by_ta[ta_idx][recitation_id]\n",
    "          solver.Add(block_var + recitation_var <= 1)\n",
    "      print()"
   ]
  },
  {
   "cell_type": "markdown",
   "id": "3f2f6035",
   "metadata": {},
   "source": [
    "### Per-TA commitment constraints\n",
    "A TA's expected weekly hour commitment (between grading, recitation, and office hours) should be within their desired range."
   ]
  },
  {
   "cell_type": "code",
   "execution_count": null,
   "id": "236780a4",
   "metadata": {},
   "outputs": [],
   "source": [
    "for row in availability_df.itertuples():\n",
    "  commitment_vars = (\n",
    "    [(v, 1) for v in oh_blocks_by_ta[row.Index].values()] +\n",
    "    [(v, recitation_time_commitment)\n",
    "     for v in recitation_assignments_by_ta[row.Index].values()]\n",
    "  )\n",
    "  commitment_sum = solver.Sum(v * weight for v, weight in commitment_vars)\n",
    "  solver.Add(commitment_sum <= row.max_hours - grading_time_commitment)\n",
    "  if row.min_hours > grading_time_commitment:\n",
    "    solver.Add(commitment_sum >= row.min_hours - grading_time_commitment)"
   ]
  },
  {
   "cell_type": "markdown",
   "id": "2c953f14",
   "metadata": {},
   "source": [
    "### Minimum time commitment constraints"
   ]
  },
  {
   "cell_type": "code",
   "execution_count": null,
   "id": "679afe5e",
   "metadata": {},
   "outputs": [],
   "source": [
    "all_block_vars = []\n",
    "for ta_vars in oh_blocks:\n",
    "  all_block_vars += list(ta_vars.values())\n",
    "solver.Add(solver.Sum(all_block_vars) >= min_total_ta_hours)"
   ]
  },
  {
   "cell_type": "markdown",
   "id": "3f475a85",
   "metadata": {},
   "source": [
    "## IP model: objective function"
   ]
  },
  {
   "cell_type": "markdown",
   "id": "2acae61b",
   "metadata": {},
   "source": [
    "### Office hours utility"
   ]
  },
  {
   "cell_type": "code",
   "execution_count": null,
   "id": "5da7c875",
   "metadata": {},
   "outputs": [],
   "source": [
    "oh_utility_obj_clauses = []\n",
    "for row in availability_df.itertuples():\n",
    "  ta_idx = row.Index\n",
    "  availability = row.oh_available\n",
    "  pref_availability = row.oh_pref_available\n",
    "  for block_id in np.where(availability == 1)[0]:\n",
    "    block_var = oh_blocks_by_ta[ta_idx][block_id]\n",
    "    weight = oh_preferred_weight if pref_availability[block_id] == 1 else 1\n",
    "    oh_utility_obj_clauses.append(weight * block_var)\n",
    "    \n",
    "oh_utility_obj = solver.Sum(oh_utility_obj_clauses)"
   ]
  },
  {
   "cell_type": "markdown",
   "id": "244575e9",
   "metadata": {},
   "source": [
    "### Recitation utility (base)"
   ]
  },
  {
   "cell_type": "code",
   "execution_count": null,
   "id": "a2465ca5",
   "metadata": {},
   "outputs": [],
   "source": [
    "recitation_utility_obj_clauses = []\n",
    "for recitation_vars, row in zip(recitation_assignments_by_ta, availability_df.itertuples()):\n",
    "  recitation_pref = row.recitation_pref\n",
    "  returning_mult = recitation_returning_ta_multiplier if row.returning else 1\n",
    "  ta_utility = int(round(returning_mult * recitation_pref_shape**recitation_pref))\n",
    "  for var in recitation_vars.values():\n",
    "    recitation_utility_obj_clauses.append(ta_utility * var)"
   ]
  },
  {
   "cell_type": "markdown",
   "id": "baaeb3a3",
   "metadata": {},
   "source": [
    "### Recitation utility (buddies)\n",
    "\n",
    "For a pair of recitation decision variables $x_{ij}, x_{ik}$, we form a \"buddy variable\" $y_{ijk}$ such that $y_{ijk} = x_{ij} \\land x_{ik}$. We can do this by forcing $x_{ij} + x_{ik} -1 \\leq y_{ijk} \\leq x_{ij} + x_{ik}$."
   ]
  },
  {
   "cell_type": "code",
   "execution_count": null,
   "id": "a45bcaa9",
   "metadata": {},
   "outputs": [],
   "source": [
    "for requester_id, requested_id in buddies:\n",
    "  requester_recitations = set(recitation_assignments_by_ta[requester_id])\n",
    "  requested_recitations = set(recitation_assignments_by_ta[requested_id])\n",
    "  for shared_recitation in requester_recitations & requested_recitations:\n",
    "    requester_var = recitation_assignments[shared_recitation][requester_id]\n",
    "    requested_var = recitation_assignments[shared_recitation][requested_id]\n",
    "    buddy_var = solver.IntVar(0, 1, f'buddy_{requester_id}_{requested_id}_{shared_recitation}')\n",
    "    solver.Add(requester_var + requester_var - 1 <= buddy_var <= requester_var + requester_var)\n",
    "    recitation_utility_obj_clauses.append(recitation_one_way_buddy_weight * buddy_var)"
   ]
  },
  {
   "cell_type": "code",
   "execution_count": null,
   "id": "16cb32b1",
   "metadata": {},
   "outputs": [],
   "source": [
    "recitation_utility_obj = solver.Sum(recitation_utility_obj_clauses)"
   ]
  },
  {
   "cell_type": "code",
   "execution_count": null,
   "id": "8e3bf9a7",
   "metadata": {},
   "outputs": [],
   "source": [
    "total_obj = oh_utility_obj + alpha * recitation_utility_obj"
   ]
  },
  {
   "cell_type": "code",
   "execution_count": null,
   "id": "7c966c55",
   "metadata": {},
   "outputs": [],
   "source": [
    "solver.Maximize(total_obj)\n",
    "solver.Solve()"
   ]
  },
  {
   "cell_type": "code",
   "execution_count": null,
   "id": "8ece5e08",
   "metadata": {},
   "outputs": [],
   "source": [
    "pretty_oh_table = defaultdict(lambda: {day: [] for day in list(weekdays) + list(weekend)})\n",
    "for block_id, ta_vars in enumerate(oh_blocks):\n",
    "  for ta_id, ta_var in ta_vars.items():\n",
    "    if ta_var.solution_value() > 0.5:\n",
    "      block = oh_block_id_to_block[block_id]\n",
    "      ta_name = availability_df.loc[ta_id, 'name']\n",
    "      hour = block.start - 12 if block.start > 12 else block.start\n",
    "      suffix = 'PM' if block.start >= 12 else 'AM'\n",
    "      pretty_oh_table[f'{hour}:00 {suffix}'][block.day].append(ta_name)\n",
    "      print(block, ta_name)"
   ]
  },
  {
   "cell_type": "code",
   "execution_count": null,
   "id": "b24219bc",
   "metadata": {},
   "outputs": [],
   "source": [
    "oh_solution_df = pd.DataFrame(pretty_oh_table).transpose()\n",
    "for col in oh_solution_df.columns:\n",
    "  oh_solution_df[col] = oh_solution_df[col].apply(lambda v: ', '.join(v))\n",
    "oh_solution_df.to_csv('oh_solution_v2.csv')"
   ]
  },
  {
   "cell_type": "code",
   "execution_count": null,
   "id": "b4c4c099",
   "metadata": {},
   "outputs": [],
   "source": [
    "oh_solution_df"
   ]
  },
  {
   "cell_type": "code",
   "execution_count": null,
   "id": "aaf8fc9f",
   "metadata": {},
   "outputs": [],
   "source": [
    "recitation_solution = defaultdict(list)\n",
    "for recitation_id, ta_vars in enumerate(recitation_assignments):\n",
    "  for ta_id, ta_var in ta_vars.items():\n",
    "    if ta_var.solution_value() > 0.5:\n",
    "      recitation = recitations[recitation_id]\n",
    "      ta_name = availability_df.loc[ta_id, 'name']\n",
    "      recitation_solution[recitation_id].append(ta_name)\n",
    "      print(recitation, ta_name)"
   ]
  },
  {
   "cell_type": "code",
   "execution_count": null,
   "id": "134938e1",
   "metadata": {},
   "outputs": [],
   "source": [
    "pretty_recitation_table = [\n",
    "  {\n",
    "    'Recitation': recitations_raw[recitation_id],\n",
    "    'TAs': ', '.join(ta_names)\n",
    "  }\n",
    "  for recitation_id, ta_names in recitation_solution.items()\n",
    "]\n",
    "pd.DataFrame(pretty_recitation_table).to_csv('recitation_solution_v2.csv', index=False)"
   ]
  },
  {
   "cell_type": "code",
   "execution_count": null,
   "id": "2d5d0df8",
   "metadata": {},
   "outputs": [],
   "source": [
    "pd.DataFrame(pretty_recitation_table)"
   ]
  },
  {
   "cell_type": "markdown",
   "id": "e3b9a682",
   "metadata": {},
   "source": [
    "### "
   ]
  }
 ],
 "metadata": {
  "kernelspec": {
   "display_name": "Python 3 (ipykernel)",
   "language": "python",
   "name": "python3"
  },
  "language_info": {
   "codemirror_mode": {
    "name": "ipython",
    "version": 3
   },
   "file_extension": ".py",
   "mimetype": "text/x-python",
   "name": "python",
   "nbconvert_exporter": "python",
   "pygments_lexer": "ipython3",
   "version": "3.9.6"
  }
 },
 "nbformat": 4,
 "nbformat_minor": 5
}
