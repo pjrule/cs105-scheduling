{
 "cells": [
  {
   "cell_type": "markdown",
   "id": "8f84f216-abc0-4462-a0be-11a9adaa7f2b",
   "metadata": {},
   "source": [
    "# CS 105 Spring 2022 OH/recitation scheduling\n",
    "\n",
    "## Inputs\n",
    "* Office hour block schedule.\n",
    "* Recitation schedule.\n",
    "* Availability form data.\n",
    "* TA metadata (returning status).\n",
    "* TA recitation buddy data (derived from availability form).\n",
    "\n",
    "## IP formulation (informal)\n",
    "\n",
    "### Objective\n",
    "Jointly maximize utility-weighted TA hours and utility-weighted recitation assignments, with a utility bonus for recitation buddy pairings.\n",
    "\n",
    "### Hard constraints\n",
    "* People are scheduled only when available.\n",
    "* Office hour shifts are between 1 and 3 hours long.\n",
    "* Each TA works at most one office hour shift per day.\n",
    "* Each TA works at most one maximum-length (3hr) shift per week.\n",
    "* Each TA works no more than 3 office hour shifts per week.\n",
    "* Each TA holds no more than 2 recitations per week.\n",
    "* No TA can simultaneously hold office hours and lead a recitation.\n",
    "* Estimated demand is (roughly) met at each block: 0-1 TAs in blocks with demand 1, and 1-2 TAs in blocks with demand 2. (Blocks are an hour long.) \n",
    "* Each recitation has between 1 and 2 leaders.\n",
    "* A minimum number of TA-hours are assigned globally.\n",
    "* Each TA is assigned a number of hours in the range they asked for. Each recitation counts as 2 hours, and weekly grading parties are counted as 2 hours. (Being conservative and counting them as 3 hours makes scheduling much hairier for spring 2022 data, and grading parties are almost always ≤2 hours long anyway. Furthermore, not all weeks have a grading party.)\n",
    "\n",
    "### Utility considerations\n",
    "* A TA gets 4 points of utility when granted a preferred office hour block and 1 point when granted a non-preferred block.\n",
    "* A TA gets $1.6^{r}$ units of utility when granted a recitation, where $r$ is their recitation preference score from 1-5. (TAs with a score of 0 are not scheduled for recitations.) This utility score is multiplied by 2 for returning TAs, which encourages solutions where returning TAs hold more recitations and fewer office hours.\n",
    "* We add 5 points for each directional recitation match. Thus, if two TAs mutually request to hold recitation together, they each get 5 points of utility for each recitation they hold together.\n",
    "\n",
    "We'll get a first-pass solution with a MIP solver. (I originally tried Z3, but it doesn't do well with complicated objective functions.) Some manual tweaks will be necessary, of course. In particular, assigning in-person vs. virtual office hours is probably a judgment call.\n",
    "\n",
    "## Running\n",
    "This notebook is mostly standalone. CSV inputs are omitted from the GitHub repository for privacy reasons. The schema for `ta_buddies.csv` is just pairs of TA names (`requester`, `requested`). The schema for `ta_metadata.csv` is `name` and `returning` (a boolean). The schema for `availability.csv` (the main input) is [induced by this Google Form](https://forms.gle/aPt4M3fWpQwxpdvH9)."
   ]
  },
  {
   "cell_type": "code",
   "execution_count": null,
   "id": "42302ff6-f97a-4151-84e8-a72ae73d3a61",
   "metadata": {},
   "outputs": [],
   "source": [
    "!pip install pandas ortools python-dateutil"
   ]
  },
  {
   "cell_type": "code",
   "execution_count": null,
   "id": "96d04b08-af80-47db-88ab-d52893121899",
   "metadata": {},
   "outputs": [],
   "source": [
    "import numpy as np\n",
    "import pandas as pd\n",
    "from functools import partial\n",
    "from collections import namedtuple, defaultdict\n",
    "from dateutil.parser import parse as ts_parse\n",
    "from ortools.linear_solver import pywraplp"
   ]
  },
  {
   "cell_type": "markdown",
   "id": "33cfead9-957f-4bd7-878a-27d6fda68bc2",
   "metadata": {},
   "source": [
    "## Model parameters"
   ]
  },
  {
   "cell_type": "code",
   "execution_count": null,
   "id": "92267fc7-f37b-4e01-9a39-38f7e035b5d7",
   "metadata": {},
   "outputs": [],
   "source": [
    "max_oh_shift_length = 3    # in hours\n",
    "max_oh_shifts_per_ta = 3\n",
    "max_recitations_per_ta = 2\n",
    "recitation_time_committment = 2  # in hours (prep + session), approx.\n",
    "grading_time_committment = 2  # in hours (typical; being more conservative makes schedulning significantly harder)\n",
    "one_shift_per_day = True  # optional constraint: at most one shift per TA per day (no extra walks!)\n",
    "oh_preferred_weight = 4  # multiplier in objective function for preferred hours (non-preferred hours have unit weight)\n",
    "recitation_pref_shape = 1.6  # base preference score is `recitation_pref_shape**[1 - 5 ranking]`\n",
    "recitation_returning_ta_multiplier = 2  # prefer senior TAs as recitation leaders\n",
    "recitation_one_way_buddy_weight = 5  # add extra utility for buddy pairings"
   ]
  },
  {
   "cell_type": "markdown",
   "id": "edc383f7-4cb4-414e-9ebd-e317dcf68931",
   "metadata": {},
   "source": [
    "## OH schedule"
   ]
  },
  {
   "cell_type": "code",
   "execution_count": null,
   "id": "06691b71-6e65-4809-a8c0-faeec53619a8",
   "metadata": {},
   "outputs": [],
   "source": [
    "weekdays = ('Mon', 'Tue', 'Wed', 'Thu', 'Fri')\n",
    "weekend = ('Sat', 'Sun')"
   ]
  },
  {
   "cell_type": "markdown",
   "id": "beabb044-3e47-49e4-b7c5-8618944e1135",
   "metadata": {},
   "source": [
    "### Guidance from Richard\n",
    "  > For coverage insight, look at the pinned piazza post from last semester; we're looking to roughly mirror that schedule, with more coverage on Monday/Tuesday nights (leading up to major deadlines), and less on Thursdays. We do have many more students this semester, though, so we could probably handle ~15% more hours across the board if possible.\n",
    "  \n",
    "> No one shows up in the morning, so those never need double coverage (in my experience).\n",
    "\n",
    "> We were well under budget this past semester (woo-hoo!), hitting about 63 office hours per week for 90 students. This semester we have 120 students enrolled currently, so we could bump up to ~80 hours per week, I believe, and still be kosher. If you can get between 63-80 hours per week, I think that's a great start.\n",
    "  \n",
    "\n",
    "### Last semester (fall 2021)\n",
    "\n",
    "#### Weekdays\n",
    "* Monday, 10 AM – 1 PM (1 TA; last hour virtual)\n",
    "* Monday, 3 PM – 7 PM (1 TA)\n",
    "* Monday, 7 PM – 12 PM (2 TAs)\n",
    "* Tuesday, 10 AM – 11 AM (1 TA)\n",
    "* Tuesday, 12 PM – 3 PM (1 TA, first hour virtual)\n",
    "* Tuesday, 4 PM – 8 PM (1 TA)\n",
    "* Tuesday, 8 PM – 12 AM (2 TAs)\n",
    "* Wednesday, 10 AM – 1 PM (1 TA)\n",
    "* Wednesday, 3 PM – 9 PM (1 TA)\n",
    "* Wednesday, 9 PM – 12 AM (2 TAs)\n",
    "* Thursday, 10 AM – 7 PM (1 TA)\n",
    "* Thursday, 8 PM – 10 PM (1 TA)\n",
    "* Friday, 11 AM – 3 PM (1 TA)\n",
    "\n",
    "#### Weekend\n",
    "* Saturday, 2 PM – 7 PM (1 TA)\n",
    "* Sunday, 1 PM – 5 PM (1 TA)\n",
    "* Sunday, 6 PM – 8 PM (1 TA)\n",
    "* Sunday, 8 PM – 9 PM (2 TAs)\n",
    "* Sunday, 9 PM – 10 PM (1 TA)"
   ]
  },
  {
   "cell_type": "code",
   "execution_count": null,
   "id": "af9ffb9b-cab4-4141-bab0-b2cffb3e07d8",
   "metadata": {},
   "outputs": [],
   "source": [
    "oh_estimated_demand = {  # in TAs\n",
    "  ('Mon', 10, 15): 1,  # Monday, 10 AM – 4 PM\n",
    "  ('Mon', 16, 23): 2,  # Monday, 4 PM – 12 AM\n",
    "  ('Tue', 10, 15): 1,  # Tuesday, 10 AM – 4 PM\n",
    "  ('Tue', 16, 23): 2,  # Tuesday, 4 PM – 12 AM\n",
    "  ('Wed', 10, 15): 1,  # Wednesday, 10 AM – 4 PM\n",
    "  ('Wed', 16, 21): 2,  # Wednesday, 4 PM – 10 PM\n",
    "  ('Wed', 22, 23): 1,  # Wednesday, 10 PM – 12 AM\n",
    "  ('Thu', 12, 20): 1,  # Thursday, 12 PM – 9 PM\n",
    "  ('Fri', 10, 14): 1,  # Friday, 10 AM – 3 PM  [grading party at 3 PM]\n",
    "  ('Sat', 13, 19): 1,  # Saturday, 1 PM – 8 PM\n",
    "  ('Sun', 13, 19): 1,  # Sunday, 1 PM – 8 PM\n",
    "}"
   ]
  },
  {
   "cell_type": "code",
   "execution_count": null,
   "id": "cdbe0fda-21a8-48dc-923d-8426538a0c4a",
   "metadata": {},
   "outputs": [],
   "source": [
    "print('Estimated hours of demand (unweighted):\\t', sum(end - start + 1 for _, start, end in oh_estimated_demand))\n",
    "print('Estimated TA-hours of demand:\\t\\t', sum((end - start + 1) * weight for (_, start, end), weight in oh_estimated_demand.items()))"
   ]
  },
  {
   "cell_type": "code",
   "execution_count": null,
   "id": "827dc5bf-ed5e-43eb-a53b-612ecc376ccb",
   "metadata": {},
   "outputs": [],
   "source": [
    "min_total_ta_hours = 80  # this seems reasonable given the bounds above..."
   ]
  },
  {
   "cell_type": "code",
   "execution_count": null,
   "id": "7d24bc93-d01e-4cf7-b381-b827a1251e23",
   "metadata": {},
   "outputs": [],
   "source": [
    "Block = namedtuple('Block', ['day', 'start', 'end'])"
   ]
  },
  {
   "cell_type": "code",
   "execution_count": null,
   "id": "b30df11a-5ae3-4818-8269-283b417e5fda",
   "metadata": {},
   "outputs": [],
   "source": [
    "oh_block_ids = {}\n",
    "oh_demand_by_block_id = {}\n",
    "for (day, start, end), demand in oh_estimated_demand.items():\n",
    "  for hour in range(start, end + 1):\n",
    "    block = Block(day, hour, hour + 1)\n",
    "    block_id = len(oh_block_ids)\n",
    "    oh_block_ids[block] = block_id\n",
    "    oh_demand_by_block_id[block_id] = demand\n",
    "oh_block_id_to_block = {v: k for k, v in oh_block_ids.items()}"
   ]
  },
  {
   "cell_type": "markdown",
   "id": "270245cd-76bd-4d8e-9100-569ba6725ef1",
   "metadata": {},
   "source": [
    "## Recitation schedule"
   ]
  },
  {
   "cell_type": "code",
   "execution_count": null,
   "id": "967a64fe-df4d-49be-801d-a417042e0e4e",
   "metadata": {},
   "outputs": [],
   "source": [
    "Recitation = namedtuple('Recitation', ['day', 'start', 'end'])"
   ]
  },
  {
   "cell_type": "code",
   "execution_count": null,
   "id": "2765f3a2-ea42-4f2c-ac63-9a4f068a00df",
   "metadata": {},
   "outputs": [],
   "source": [
    "def parse_recitation(line):\n",
    "  line = line.replace('Th', 'Thu').replace('Fr', 'Fri')\n",
    "  day, start_raw, _, end_raw = line.split(' ')\n",
    "  start = ts_parse(start_raw)\n",
    "  end = ts_parse(end_raw)\n",
    "  return Recitation(day,\n",
    "                    start.hour + (start.minute / 60),\n",
    "                    end.hour + (end.minute / 60))"
   ]
  },
  {
   "cell_type": "code",
   "execution_count": null,
   "id": "e7ea9edb-89d2-4f54-a858-07771c76eb72",
   "metadata": {},
   "outputs": [],
   "source": [
    "# from SIS; same format used in Google Forms\n",
    "recitations_raw = \"\"\"\n",
    "Th 10:30AM - 11:45AM\n",
    "Th 12:00PM - 1:15PM\n",
    "Th 1:30PM - 2:45PM\n",
    "Th 3:00PM - 4:15PM\n",
    "Th 4:30PM - 5:45PM\n",
    "Th 6:00PM - 7:15PM\n",
    "Th 7:30PM - 8:45PM\n",
    "Fr 10:30AM - 11:45AM\n",
    "Fr 12:00PM - 1:15PM\n",
    "Fr 1:30PM - 2:45PM\"\"\".strip().split('\\n')\n",
    "\n",
    "recitations = [parse_recitation(line) for line in recitations_raw]"
   ]
  },
  {
   "cell_type": "markdown",
   "id": "f89acdba-44c7-4a0d-93e6-598a66a188ca",
   "metadata": {},
   "source": [
    "## Availability\n",
    "(Raw CSV export from Google Forms.)"
   ]
  },
  {
   "cell_type": "code",
   "execution_count": null,
   "id": "5edf2cad-dff2-4a3d-a914-e68437f16fa7",
   "metadata": {},
   "outputs": [],
   "source": [
    "availability_df = pd.read_csv('availability.csv')  # excluded from repo for privacy reasons"
   ]
  },
  {
   "cell_type": "code",
   "execution_count": null,
   "id": "e8cad364-ef55-450c-9f5e-f4431292dcba",
   "metadata": {},
   "outputs": [],
   "source": [
    "columns = {\n",
    "  'Name': 'name',\n",
    "  'Minimum hours per week': 'min_hours',\n",
    "  'Maximum hours per week': 'max_hours',\n",
    "  'What is your preferred modality for office hours?': 'in_person_pref',\n",
    "  'How willing are you to lead recitation?': 'recitation_pref',\n",
    "  'If your answer to the above was greater than 0, which recitations would you want to lead.': 'recitation_availability'\n",
    "}"
   ]
  },
  {
   "cell_type": "code",
   "execution_count": null,
   "id": "b49afba8-1dc2-4aa1-adee-3803bd96874e",
   "metadata": {},
   "outputs": [],
   "source": [
    "for col in availability_df.columns:\n",
    "  if col.startswith('Time Availability.') or col.startswith('Select high preference'):\n",
    "    hour = ts_parse(col.split('[')[-1].replace(']', '')).hour\n",
    "    prefix = ('oh_available' if col.startswith('Time Availability.') else 'oh_pref')\n",
    "    columns[col] = f'{prefix}_{hour}'"
   ]
  },
  {
   "cell_type": "code",
   "execution_count": null,
   "id": "f9642638-0704-479a-97ba-ba97145a3ae6",
   "metadata": {},
   "outputs": [],
   "source": [
    "availability_df = availability_df.rename(columns=columns)[columns.values()]"
   ]
  },
  {
   "cell_type": "code",
   "execution_count": null,
   "id": "297100a2-36a0-4944-8fc3-c2980be19a70",
   "metadata": {},
   "outputs": [],
   "source": [
    "def embed_block_schedule(row, prefix='oh_available'):\n",
    "  row = dict(row)\n",
    "  schedule = np.zeros(len(oh_block_ids), dtype=bool)\n",
    "  for col in row:\n",
    "    if col.startswith(prefix) and col != prefix:\n",
    "      block_hour = int(col.split('_')[-1])\n",
    "      block_days = str(row[col]).split(';')\n",
    "      for day in block_days:\n",
    "        block = Block(day[:3], block_hour, block_hour + 1)\n",
    "        if block in oh_block_ids:\n",
    "          schedule[oh_block_ids[block]] = 1\n",
    "  return schedule"
   ]
  },
  {
   "cell_type": "code",
   "execution_count": null,
   "id": "b5ad9049-e2e2-49de-915c-fc8f0c8c4fc5",
   "metadata": {},
   "outputs": [],
   "source": [
    "availability_df['oh_available'] = availability_df.apply(embed_block_schedule, axis=1)\n",
    "availability_df['oh_pref_available'] = availability_df.apply(partial(embed_block_schedule, prefix='oh_pref'), axis=1)"
   ]
  },
  {
   "cell_type": "code",
   "execution_count": null,
   "id": "7d71993a-c32d-4e4d-9955-79cf4e3aff41",
   "metadata": {},
   "outputs": [],
   "source": [
    "def embed_recitations(row):\n",
    "  schedule = np.zeros(len(recitations), dtype=bool)\n",
    "  row_recitations = str(row['recitation_availability']).split(';')\n",
    "  for recitation in row_recitations:\n",
    "    if recitation in recitations_raw:\n",
    "      schedule[recitations_raw.index(recitation)] = 1\n",
    "  return schedule"
   ]
  },
  {
   "cell_type": "code",
   "execution_count": null,
   "id": "0280b970-e112-4a52-9729-be82e16c3155",
   "metadata": {},
   "outputs": [],
   "source": [
    "availability_df['recitation_available'] = availability_df.apply(embed_recitations, axis=1)"
   ]
  },
  {
   "cell_type": "code",
   "execution_count": null,
   "id": "422bc49d-394e-46ef-9739-d118c7ccb5e5",
   "metadata": {},
   "outputs": [],
   "source": [
    "availability_df = availability_df[['name', 'min_hours', 'max_hours', 'recitation_pref',\n",
    "                                   'oh_available', 'oh_pref_available', 'recitation_available']]"
   ]
  },
  {
   "cell_type": "code",
   "execution_count": null,
   "id": "f1b81355-4b31-4ccb-a0d2-8986f04adaef",
   "metadata": {},
   "outputs": [],
   "source": [
    "ta_metadata_df = pd.read_csv('ta_metadata.csv', dtype={'returning': bool})"
   ]
  },
  {
   "cell_type": "code",
   "execution_count": null,
   "id": "905ed729-8520-40cd-af00-bae1725ad99c",
   "metadata": {},
   "outputs": [],
   "source": [
    "availability_df = availability_df.merge(ta_metadata_df, on='name')"
   ]
  },
  {
   "cell_type": "markdown",
   "id": "736d8ccb-9f41-410c-98ac-0f15c4f1c265",
   "metadata": {},
   "source": [
    "## Input data cleanup/validation\n",
    "* If a TA is unwilling to lead a recitation, they should not have any recitation availability.\n",
    "* If a TA has a preferred time checked, they should also be available for that time. (preferred => available, i.e. ~(preferred $\\land$ ~available))\n",
    "* TAs who are unavailable for anything other than grading should be filtered out."
   ]
  },
  {
   "cell_type": "code",
   "execution_count": null,
   "id": "54c8fa7b-5529-47c7-92f5-bb3d799dbbc8",
   "metadata": {},
   "outputs": [],
   "source": [
    "availability_df = availability_df[availability_df['max_hours'] > grading_time_committment].reset_index(drop=True)"
   ]
  },
  {
   "cell_type": "code",
   "execution_count": null,
   "id": "2ba75ec3-7210-428b-ba3e-99d960bcd062",
   "metadata": {},
   "outputs": [],
   "source": [
    "no_recitation_tas_df = availability_df[availability_df['recitation_pref'] == 0]\n",
    "assert (no_recitation_tas_df['recitation_available'].sum() == 0).all()"
   ]
  },
  {
   "cell_type": "code",
   "execution_count": null,
   "id": "ccb58246-0427-4389-a458-f60507396c8f",
   "metadata": {},
   "outputs": [],
   "source": [
    "availability_df.apply(lambda row: (row['oh_pref_available'] & ~row['oh_available']).sum(), axis=1)"
   ]
  },
  {
   "cell_type": "code",
   "execution_count": null,
   "id": "39e4e181-6978-4ee5-81a5-f6cae0f7355d",
   "metadata": {},
   "outputs": [],
   "source": [
    "# Special case...\n",
    "availability_df.at[9, 'oh_available'] = availability_df.loc[9, 'oh_pref_available'] "
   ]
  },
  {
   "cell_type": "code",
   "execution_count": null,
   "id": "51c19e07-5596-4527-aa17-106e1c68b4a1",
   "metadata": {},
   "outputs": [],
   "source": [
    "ta_buddies_df = pd.read_csv('ta_buddies.csv')"
   ]
  },
  {
   "cell_type": "code",
   "execution_count": null,
   "id": "b5a6c038-86e9-4cc4-9a55-f6a657777e4b",
   "metadata": {},
   "outputs": [],
   "source": [
    "buddies = []\n",
    "names = list(availability_df['name'])\n",
    "for requester, requested in zip(ta_buddies_df['requester'], ta_buddies_df['requested']):\n",
    "  if requester in names and requested in names:\n",
    "    buddies.append((names.index(requester), names.index(requested)))"
   ]
  },
  {
   "cell_type": "code",
   "execution_count": null,
   "id": "e45092c2-e2e7-4152-9c02-d059d413b8e6",
   "metadata": {},
   "outputs": [],
   "source": [
    "buddies"
   ]
  },
  {
   "cell_type": "markdown",
   "id": "9ebfacbb-4948-4f33-9e40-a87cfd469bc6",
   "metadata": {},
   "source": [
    "## IP model: constraints"
   ]
  },
  {
   "cell_type": "code",
   "execution_count": null,
   "id": "5e66b6bf-f85b-4a21-8fe2-a3ec6bafa5c9",
   "metadata": {},
   "outputs": [],
   "source": [
    "solver = pywraplp.Solver.CreateSolver('SCIP')"
   ]
  },
  {
   "cell_type": "markdown",
   "id": "ad651033-0749-4f2b-95c7-e07aaac6be2b",
   "metadata": {},
   "source": [
    "### OH availability constraints\n",
    "We only create boolean block/shift variables when TAs are available."
   ]
  },
  {
   "cell_type": "code",
   "execution_count": null,
   "id": "a2a38914-ea2f-4b5d-ba89-70966f29cdcd",
   "metadata": {},
   "outputs": [],
   "source": [
    "Shift = namedtuple('Shift', ['var', 'day', 'start', 'end'])"
   ]
  },
  {
   "cell_type": "code",
   "execution_count": null,
   "id": "e1fc1374-aac6-45a5-8351-9bd014912625",
   "metadata": {},
   "outputs": [],
   "source": [
    "oh_blocks = [{} for _ in range(len(oh_block_ids))]\n",
    "oh_blocks_by_ta = []\n",
    "oh_shifts_by_ta = []\n",
    "for ta_idx, availability in enumerate(availability_df['oh_available']):\n",
    "  row_blocks = {}\n",
    "  #print('availability:', availability)\n",
    "  for block_id in np.where(availability == 1)[0]:\n",
    "    #print('creating', ta_idx, block_id)\n",
    "    # Constraint (implicit): only generate variables for TAs when they are available.\n",
    "    block_var = solver.IntVar(0, 1, f'ta_{ta_idx}_block_{block_id}')\n",
    "    row_blocks[block_id] = block_var\n",
    "    oh_blocks[block_id][ta_idx] = block_var\n",
    "  \n",
    "  row_shifts = {}\n",
    "  block_var_to_shift_vars = defaultdict(list)\n",
    "  for window in range(max_oh_shift_length):\n",
    "    for block_idx in range(availability.size - window):\n",
    "      start_block = oh_block_id_to_block[block_idx]\n",
    "      end_block = oh_block_id_to_block[block_idx + window]\n",
    "      # Assumption: within a day, blocks are contiguous.\n",
    "      if ((start_block.day == end_block.day)\n",
    "          and (availability[block_idx:block_idx + window + 1].sum() == window + 1)):\n",
    "        shift_var = solver.IntVar(0, 1, f'ta_{ta_idx}_shift_{len(row_shifts)}')\n",
    "        row_shifts[len(row_shifts)] = Shift(shift_var, start_block.day, start_block.start, end_block.end)\n",
    "        \n",
    "        # Constraint: if the shift is selected, all blocks in the shift are selected.\n",
    "        #print('row blocks:', row_blocks)\n",
    "        for block_id in range(block_idx, block_idx + window + 1):\n",
    "          #print('\\tblock id:', block_id)\n",
    "          block_var = row_blocks[block_id]\n",
    "          #print(ta_idx, row_shifts[len(row_shifts) - 1], oh_block_id_to_block[block_id])\n",
    "          solver.Add(block_var >= shift_var)\n",
    "          block_var_to_shift_vars[block_var].append(shift_var)\n",
    "          \n",
    "  # Constraint: if a block is selected, then a shift it is in is selected.\n",
    "  for block_var, shift_vars in block_var_to_shift_vars.items():\n",
    "    #print(block_var, shift_vars)\n",
    "    solver.Add(solver.Sum(shift_vars) >= block_var)\n",
    "\n",
    "  if one_shift_per_day:\n",
    "    # Constraint (optional): no overlapping blocks (or one shift per day).\n",
    "    shift_vars_by_day = defaultdict(set)\n",
    "    for shift in row_shifts.values():\n",
    "      shift_vars_by_day[shift.day].add(shift.var)\n",
    "    #print(shift_vars_by_day)\n",
    "    for day_vars in shift_vars_by_day.values():\n",
    "      solver.Add(solver.Sum(day_vars) <= 1)\n",
    "  else:\n",
    "    # TODO: intra-day shift conflict constraints.\n",
    "    raise NotImplementedError('Multiple office hour shifts per day not supported yet.')\n",
    "    \n",
    "  # Constraint: no more than k shifts per week.\n",
    "  solver.Add(solver.Sum(s.var for s in row_shifts.values()) <= max_oh_shifts_per_ta)\n",
    "  \n",
    "  # Constraint: no more than one shift per week of maximum length.\n",
    "  long_shift_vars = [\n",
    "    shift.var for shift in row_shifts.values()\n",
    "    if shift.end - shift.start == max_oh_shift_length\n",
    "  ]\n",
    "  solver.Add(solver.Sum(long_shift_vars) <= 1)\n",
    "          \n",
    "  oh_blocks_by_ta.append(row_blocks)\n",
    "  oh_shifts_by_ta.append(row_shifts)"
   ]
  },
  {
   "cell_type": "code",
   "execution_count": null,
   "id": "3bb4c406-9408-4369-95c1-844f58b0162c",
   "metadata": {},
   "outputs": [],
   "source": [
    "# Constraint: demand met (roughly) at each block.\n",
    "for block_id, ta_vars in enumerate(oh_blocks):\n",
    "  demand = oh_demand_by_block_id[block_id]\n",
    "  solver.Add(solver.Sum(ta_vars.values()) <= demand)\n",
    "  if demand > 1 and not ta_vars:\n",
    "    print(f'Infeasible: too much demand and not enough TAs at block {block_id}. Loosening...')\n",
    "  elif demand > 1:\n",
    "    solver.Add(solver.Sum(ta_vars.values()) >= demand - 1)"
   ]
  },
  {
   "cell_type": "markdown",
   "id": "d1e6f77b-38e6-47e9-a611-46cc019715c6",
   "metadata": {},
   "source": [
    "### Recitation availability constraints\n",
    "* **Supply side**: TAs can only be assigned to recitations they might be available for.\n",
    "* **Supply side**: Each TA cannot lead too many recitations.\n",
    "* **Demand side**: each recitation must have at between one and two leaders."
   ]
  },
  {
   "cell_type": "code",
   "execution_count": null,
   "id": "5a313472-1633-441f-b319-039472c41d10",
   "metadata": {},
   "outputs": [],
   "source": [
    "recitation_assignments_by_ta = []\n",
    "recitation_assignments = [{} for _ in range(len(recitations))]\n",
    "for ta_idx, availability in enumerate(availability_df['recitation_available']):\n",
    "  row_recitations = {}\n",
    "  for recitation_id in np.where(availability == 1)[0]:\n",
    "    # Constraint (implicit): only generate variables for TAs when they are available.\n",
    "    ta_recitation_var = solver.IntVar(0, 1, f'ta_{ta_idx}_recitation_{recitation_id}')\n",
    "    row_recitations[recitation_id] = ta_recitation_var\n",
    "    recitation_assignments[recitation_id][ta_idx] = ta_recitation_var    \n",
    "  recitation_assignments_by_ta.append(row_recitations)\n",
    "  \n",
    "  # Constraint: each TA leads ≤k recitations.\n",
    "  solver.Add(solver.Sum(row_recitations.values()) <= max_recitations_per_ta)"
   ]
  },
  {
   "cell_type": "code",
   "execution_count": null,
   "id": "1e0a8085-e580-4d9c-9b3a-0d87eb909492",
   "metadata": {},
   "outputs": [],
   "source": [
    "for ta_vars in recitation_assignments:\n",
    "  # Constraint: each recitation must have ≥1 leader.\n",
    "  # Constraint: each recitation must have ≤2 leaders.\n",
    "  solver.Add(1 <= solver.Sum(ta_vars.values()) <= 2)"
   ]
  },
  {
   "cell_type": "markdown",
   "id": "fe269360-15e5-44b1-a778-e7553ec433e0",
   "metadata": {},
   "source": [
    "### Recitation/OH overlap constraints\n",
    "A TA cannot simultaneously lead a recitation and hold office hours."
   ]
  },
  {
   "cell_type": "code",
   "execution_count": null,
   "id": "4a39a61f-a40e-4eb2-9fe9-33d30f3bb28c",
   "metadata": {},
   "outputs": [],
   "source": [
    "print('Overlaps:')\n",
    "for recitation_id, recitation in enumerate(recitations):\n",
    "  for block, block_id in oh_block_ids.items():\n",
    "    if (block.day == recitation.day and\n",
    "        max(recitation.start, block.start) < min(recitation.end, block.end)):\n",
    "      print(block, recitation, end=' ')\n",
    "      for ta_idx, ta_blocks in enumerate(oh_blocks_by_ta):\n",
    "        if block_id in ta_blocks and recitation_id in recitation_assignments_by_ta[ta_idx]:\n",
    "          print(ta_idx, end=' ')\n",
    "          block_var = ta_blocks[block_id]\n",
    "          recitation_var = recitation_assignments_by_ta[ta_idx][recitation_id]\n",
    "          solver.Add(block_var + recitation_var <= 1)\n",
    "      print()"
   ]
  },
  {
   "cell_type": "markdown",
   "id": "632ef12f-ea89-4b95-bfea-cc2015261016",
   "metadata": {},
   "source": [
    "### Per-TA committment constraints\n",
    "A TA's expected weekly hour committment (between grading, recitation, and office hours) should be within their desired range."
   ]
  },
  {
   "cell_type": "code",
   "execution_count": null,
   "id": "ec3be58b-9d99-4c54-b866-dc152ff459b7",
   "metadata": {},
   "outputs": [],
   "source": [
    "for row in availability_df.itertuples():\n",
    "  committment_vars = (\n",
    "    [(v, 1) for v in oh_blocks_by_ta[row.Index].values()] +\n",
    "    [(v, recitation_time_committment)\n",
    "     for v in recitation_assignments_by_ta[row.Index].values()]\n",
    "  )\n",
    "  committment_sum = solver.Sum(v * weight for v, weight in committment_vars)\n",
    "  solver.Add(committment_sum <= row.max_hours - grading_time_committment)\n",
    "  if row.min_hours > grading_time_committment:\n",
    "    solver.Add(committment_sum >= row.min_hours - grading_time_committment)"
   ]
  },
  {
   "cell_type": "markdown",
   "id": "e596f2e6-8e85-4c61-81c0-c063d8604e67",
   "metadata": {},
   "source": [
    "### Minimum time committment constraints"
   ]
  },
  {
   "cell_type": "code",
   "execution_count": null,
   "id": "f3813dff-6505-4427-89bb-5e99df2f187e",
   "metadata": {},
   "outputs": [],
   "source": [
    "all_block_vars = []\n",
    "for ta_vars in oh_blocks:\n",
    "  all_block_vars += list(ta_vars.values())\n",
    "solver.Add(solver.Sum(all_block_vars) >= min_total_ta_hours)"
   ]
  },
  {
   "cell_type": "markdown",
   "id": "1262ffe7-106b-4374-a048-b99358fedfcb",
   "metadata": {},
   "source": [
    "## IP model: objective function"
   ]
  },
  {
   "cell_type": "markdown",
   "id": "4fa9f84c-5de7-456e-9a80-5bfade5979e5",
   "metadata": {},
   "source": [
    "### Office hours utility"
   ]
  },
  {
   "cell_type": "code",
   "execution_count": null,
   "id": "8d72f62b-8e02-4797-904b-c260c9071916",
   "metadata": {},
   "outputs": [],
   "source": [
    "oh_utility_obj_clauses = []\n",
    "for row in availability_df.itertuples():\n",
    "  ta_idx = row.Index\n",
    "  availability = row.oh_available\n",
    "  pref_availability = row.oh_pref_available\n",
    "  for block_id in np.where(availability == 1)[0]:\n",
    "    block_var = oh_blocks_by_ta[ta_idx][block_id]\n",
    "    weight = oh_preferred_weight if pref_availability[block_id] == 1 else 1\n",
    "    oh_utility_obj_clauses.append(weight * block_var)\n",
    "    \n",
    "oh_utility_obj = solver.Sum(oh_utility_obj_clauses)"
   ]
  },
  {
   "cell_type": "markdown",
   "id": "1a09e676-3b1a-4cc3-9e9f-d0a1b990bdc0",
   "metadata": {},
   "source": [
    "### Recitation utility (base)"
   ]
  },
  {
   "cell_type": "code",
   "execution_count": null,
   "id": "b91cc91b-d7b4-4983-b313-b69f088dc41b",
   "metadata": {},
   "outputs": [],
   "source": [
    "recitation_utility_obj_clauses = []\n",
    "for recitation_vars, row in zip(recitation_assignments_by_ta, availability_df.itertuples()):\n",
    "  recitation_pref = row.recitation_pref\n",
    "  returning_mult = recitation_returning_ta_multiplier if row.returning else 1\n",
    "  ta_utility = int(round(returning_mult * recitation_pref_shape**recitation_pref))\n",
    "  for var in recitation_vars.values():\n",
    "    recitation_utility_obj_clauses.append(ta_utility * var)"
   ]
  },
  {
   "cell_type": "markdown",
   "id": "9cbf194b-86d1-49ff-86bc-31d2a9cb724b",
   "metadata": {},
   "source": [
    "### Recitation utility (buddies)\n",
    "\n",
    "For a pair of recitation decision variables $x_{ij}, x_{ik}$, we form a \"buddy variable\" $y_{ijk}$ such that $y_{ijk} = x_{ij} \\land x_{ik}$. We can do this by forcing $x_{ij} + x_{ik} -1 \\leq y_{ijk} \\leq x_{ij} + x_{ik}$."
   ]
  },
  {
   "cell_type": "code",
   "execution_count": null,
   "id": "58bcc1e2-ed5b-4a0a-ba96-857544a0740e",
   "metadata": {},
   "outputs": [],
   "source": [
    "for requester_id, requested_id in buddies:\n",
    "  requester_recitations = set(recitation_assignments_by_ta[requester_id])\n",
    "  requested_recitations = set(recitation_assignments_by_ta[requested_id])\n",
    "  for shared_recitation in requester_recitations & requested_recitations:\n",
    "    requester_var = recitation_assignments[shared_recitation][requester_id]\n",
    "    requested_var = recitation_assignments[shared_recitation][requested_id]\n",
    "    buddy_var = solver.IntVar(0, 1, f'buddy_{requester_id}_{requested_id}_{shared_recitation}')\n",
    "    solver.Add(requester_var + requester_var - 1 <= buddy_var <= requester_var + requester_var)\n",
    "    recitation_utility_obj_clauses.append(recitation_one_way_buddy_weight * buddy_var)"
   ]
  },
  {
   "cell_type": "code",
   "execution_count": null,
   "id": "d3e265f1-c06a-4eed-b695-a99f7b316424",
   "metadata": {},
   "outputs": [],
   "source": [
    "recitation_utility_obj = solver.Sum(recitation_utility_obj_clauses)"
   ]
  },
  {
   "cell_type": "code",
   "execution_count": null,
   "id": "4a89fbaf-7da2-4202-adde-ed514ff9b830",
   "metadata": {},
   "outputs": [],
   "source": [
    "total_obj = oh_utility_obj + 5 * recitation_utility_obj"
   ]
  },
  {
   "cell_type": "code",
   "execution_count": null,
   "id": "6908b98a-9884-4ab1-a811-f7b8e52556dc",
   "metadata": {},
   "outputs": [],
   "source": [
    "solver.Maximize(total_obj)\n",
    "solver.Solve()"
   ]
  },
  {
   "cell_type": "code",
   "execution_count": null,
   "id": "77650adf-e966-4b0a-9e02-7c71b19bbd55",
   "metadata": {},
   "outputs": [],
   "source": [
    "pretty_oh_table = defaultdict(lambda: {day: [] for day in list(weekdays) + list(weekend)})\n",
    "for block_id, ta_vars in enumerate(oh_blocks):\n",
    "  for ta_id, ta_var in ta_vars.items():\n",
    "    if ta_var.solution_value() > 0.5:\n",
    "      block = oh_block_id_to_block[block_id]\n",
    "      ta_name = availability_df.loc[ta_id, 'name']\n",
    "      hour = block.start - 12 if block.start > 12 else block.start\n",
    "      suffix = 'PM' if block.start >= 12 else 'AM'\n",
    "      pretty_oh_table[f'{hour}:00 {suffix}'][block.day].append(ta_name)\n",
    "      print(block, ta_name)"
   ]
  },
  {
   "cell_type": "code",
   "execution_count": null,
   "id": "640147c9-40a1-4862-b74b-fae5a9687f33",
   "metadata": {},
   "outputs": [],
   "source": [
    "oh_solution_df = pd.DataFrame(pretty_oh_table).transpose()\n",
    "for col in oh_solution_df.columns:\n",
    "  oh_solution_df[col] = oh_solution_df[col].apply(lambda v: ', '.join(v))\n",
    "oh_solution_df.to_csv('oh_solution_v1.csv')"
   ]
  },
  {
   "cell_type": "code",
   "execution_count": null,
   "id": "74ee535d-acb8-4905-87d5-a563aa5ee3af",
   "metadata": {},
   "outputs": [],
   "source": [
    "recitation_solution = defaultdict(list)\n",
    "for recitation_id, ta_vars in enumerate(recitation_assignments):\n",
    "  for ta_id, ta_var in ta_vars.items():\n",
    "    if ta_var.solution_value() > 0.5:\n",
    "      recitation = recitations[recitation_id]\n",
    "      ta_name = availability_df.loc[ta_id, 'name']\n",
    "      recitation_solution[recitation_id].append(ta_name)\n",
    "      print(recitation, ta_name)"
   ]
  },
  {
   "cell_type": "code",
   "execution_count": null,
   "id": "70706a5b-31b8-4bbc-b9d3-d7a7943046c2",
   "metadata": {},
   "outputs": [],
   "source": [
    "pretty_recitation_table = [\n",
    "  {\n",
    "    'Recitation': recitations_raw[recitation_id],\n",
    "    'TAs': ', '.join(ta_names)\n",
    "  }\n",
    "  for recitation_id, ta_names in recitation_solution.items()\n",
    "]\n",
    "pd.DataFrame(pretty_recitation_table).to_csv('recitation_solution_v1.csv', index=False)"
   ]
  },
  {
   "cell_type": "markdown",
   "id": "7734e2d4-d620-4980-8fda-769ae1d8e38e",
   "metadata": {},
   "source": [
    "### "
   ]
  }
 ],
 "metadata": {
  "kernelspec": {
   "display_name": "Python 3",
   "language": "python",
   "name": "python3"
  },
  "language_info": {
   "codemirror_mode": {
    "name": "ipython",
    "version": 3
   },
   "file_extension": ".py",
   "mimetype": "text/x-python",
   "name": "python",
   "nbconvert_exporter": "python",
   "pygments_lexer": "ipython3",
   "version": "3.8.8"
  }
 },
 "nbformat": 4,
 "nbformat_minor": 5
}
